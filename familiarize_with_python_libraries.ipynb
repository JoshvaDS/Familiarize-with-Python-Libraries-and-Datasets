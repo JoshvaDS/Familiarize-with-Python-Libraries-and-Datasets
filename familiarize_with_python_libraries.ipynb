{
 "cells": [
  {
   "cell_type": "markdown",
   "metadata": {},
   "source": [
    "## **Installing Necessary Libraries**"
   ]
  },
  {
   "cell_type": "code",
   "execution_count": 89,
   "metadata": {},
   "outputs": [],
   "source": [
    "%pip install pandas numpy scikit-learn matplotlib seaborn # Simply run this code to install necessary libraries"
   ]
  },
  {
   "cell_type": "markdown",
   "metadata": {},
   "source": [
    "## **Importing Necessary Libraries**"
   ]
  },
  {
   "cell_type": "code",
   "execution_count": 90,
   "metadata": {},
   "outputs": [],
   "source": [
    "import pandas as pd\n",
    "import numpy as np\n",
    "import matplotlib.pyplot as plt\n",
    "import seaborn as sns"
   ]
  },
  {
   "cell_type": "markdown",
   "metadata": {},
   "source": [
    "## **Loding NBA & Bank Dataset's**"
   ]
  },
  {
   "cell_type": "code",
   "execution_count": 91,
   "metadata": {},
   "outputs": [],
   "source": [
    "NBA = 'Data/all_seasons.csv'\n",
    "BANK = 'Data/bank-full.csv'\n",
    "\n",
    "bank_df = pd.read_csv(BANK, sep=';')\n",
    "\n",
    "nba_df  = pd.read_csv(NBA)"
   ]
  },
  {
   "cell_type": "markdown",
   "metadata": {},
   "source": [
    "# **Statistics overview of Bank Data**"
   ]
  },
  {
   "cell_type": "markdown",
   "metadata": {},
   "source": [
    "## **DataSet Head**"
   ]
  },
  {
   "cell_type": "code",
   "execution_count": 92,
   "metadata": {},
   "outputs": [
    {
     "data": {
      "text/html": [
       "<div>\n",
       "<style scoped>\n",
       "    .dataframe tbody tr th:only-of-type {\n",
       "        vertical-align: middle;\n",
       "    }\n",
       "\n",
       "    .dataframe tbody tr th {\n",
       "        vertical-align: top;\n",
       "    }\n",
       "\n",
       "    .dataframe thead th {\n",
       "        text-align: right;\n",
       "    }\n",
       "</style>\n",
       "<table border=\"1\" class=\"dataframe\">\n",
       "  <thead>\n",
       "    <tr style=\"text-align: right;\">\n",
       "      <th></th>\n",
       "      <th>age</th>\n",
       "      <th>job</th>\n",
       "      <th>marital</th>\n",
       "      <th>education</th>\n",
       "      <th>default</th>\n",
       "      <th>balance</th>\n",
       "      <th>housing</th>\n",
       "      <th>loan</th>\n",
       "      <th>contact</th>\n",
       "      <th>day</th>\n",
       "      <th>month</th>\n",
       "      <th>duration</th>\n",
       "      <th>campaign</th>\n",
       "      <th>pdays</th>\n",
       "      <th>previous</th>\n",
       "      <th>poutcome</th>\n",
       "      <th>y</th>\n",
       "    </tr>\n",
       "  </thead>\n",
       "  <tbody>\n",
       "    <tr>\n",
       "      <th>0</th>\n",
       "      <td>58</td>\n",
       "      <td>management</td>\n",
       "      <td>married</td>\n",
       "      <td>tertiary</td>\n",
       "      <td>no</td>\n",
       "      <td>2143</td>\n",
       "      <td>yes</td>\n",
       "      <td>no</td>\n",
       "      <td>unknown</td>\n",
       "      <td>5</td>\n",
       "      <td>may</td>\n",
       "      <td>261</td>\n",
       "      <td>1</td>\n",
       "      <td>-1</td>\n",
       "      <td>0</td>\n",
       "      <td>unknown</td>\n",
       "      <td>no</td>\n",
       "    </tr>\n",
       "    <tr>\n",
       "      <th>1</th>\n",
       "      <td>44</td>\n",
       "      <td>technician</td>\n",
       "      <td>single</td>\n",
       "      <td>secondary</td>\n",
       "      <td>no</td>\n",
       "      <td>29</td>\n",
       "      <td>yes</td>\n",
       "      <td>no</td>\n",
       "      <td>unknown</td>\n",
       "      <td>5</td>\n",
       "      <td>may</td>\n",
       "      <td>151</td>\n",
       "      <td>1</td>\n",
       "      <td>-1</td>\n",
       "      <td>0</td>\n",
       "      <td>unknown</td>\n",
       "      <td>no</td>\n",
       "    </tr>\n",
       "    <tr>\n",
       "      <th>2</th>\n",
       "      <td>33</td>\n",
       "      <td>entrepreneur</td>\n",
       "      <td>married</td>\n",
       "      <td>secondary</td>\n",
       "      <td>no</td>\n",
       "      <td>2</td>\n",
       "      <td>yes</td>\n",
       "      <td>yes</td>\n",
       "      <td>unknown</td>\n",
       "      <td>5</td>\n",
       "      <td>may</td>\n",
       "      <td>76</td>\n",
       "      <td>1</td>\n",
       "      <td>-1</td>\n",
       "      <td>0</td>\n",
       "      <td>unknown</td>\n",
       "      <td>no</td>\n",
       "    </tr>\n",
       "    <tr>\n",
       "      <th>3</th>\n",
       "      <td>47</td>\n",
       "      <td>blue-collar</td>\n",
       "      <td>married</td>\n",
       "      <td>unknown</td>\n",
       "      <td>no</td>\n",
       "      <td>1506</td>\n",
       "      <td>yes</td>\n",
       "      <td>no</td>\n",
       "      <td>unknown</td>\n",
       "      <td>5</td>\n",
       "      <td>may</td>\n",
       "      <td>92</td>\n",
       "      <td>1</td>\n",
       "      <td>-1</td>\n",
       "      <td>0</td>\n",
       "      <td>unknown</td>\n",
       "      <td>no</td>\n",
       "    </tr>\n",
       "    <tr>\n",
       "      <th>4</th>\n",
       "      <td>33</td>\n",
       "      <td>unknown</td>\n",
       "      <td>single</td>\n",
       "      <td>unknown</td>\n",
       "      <td>no</td>\n",
       "      <td>1</td>\n",
       "      <td>no</td>\n",
       "      <td>no</td>\n",
       "      <td>unknown</td>\n",
       "      <td>5</td>\n",
       "      <td>may</td>\n",
       "      <td>198</td>\n",
       "      <td>1</td>\n",
       "      <td>-1</td>\n",
       "      <td>0</td>\n",
       "      <td>unknown</td>\n",
       "      <td>no</td>\n",
       "    </tr>\n",
       "  </tbody>\n",
       "</table>\n",
       "</div>"
      ],
      "text/plain": [
       "   age           job  marital  education default  balance housing loan  \\\n",
       "0   58    management  married   tertiary      no     2143     yes   no   \n",
       "1   44    technician   single  secondary      no       29     yes   no   \n",
       "2   33  entrepreneur  married  secondary      no        2     yes  yes   \n",
       "3   47   blue-collar  married    unknown      no     1506     yes   no   \n",
       "4   33       unknown   single    unknown      no        1      no   no   \n",
       "\n",
       "   contact  day month  duration  campaign  pdays  previous poutcome   y  \n",
       "0  unknown    5   may       261         1     -1         0  unknown  no  \n",
       "1  unknown    5   may       151         1     -1         0  unknown  no  \n",
       "2  unknown    5   may        76         1     -1         0  unknown  no  \n",
       "3  unknown    5   may        92         1     -1         0  unknown  no  \n",
       "4  unknown    5   may       198         1     -1         0  unknown  no  "
      ]
     },
     "execution_count": 92,
     "metadata": {},
     "output_type": "execute_result"
    }
   ],
   "source": [
    "bank_df.head(5)"
   ]
  },
  {
   "cell_type": "markdown",
   "metadata": {},
   "source": [
    "## **Shape of the Dataset** "
   ]
  },
  {
   "cell_type": "code",
   "execution_count": 93,
   "metadata": {},
   "outputs": [
    {
     "name": "stdout",
     "output_type": "stream",
     "text": [
      "Shape of dataset: 45211 x 17\n"
     ]
    }
   ],
   "source": [
    "# Shape of the DataFrame: returns a tuple (rows, columns)\n",
    "Shape = bank_df.shape\n",
    "# Print the information\n",
    "print(\"Shape of dataset:\", Shape[0], \"x\", Shape[1])  # Prints the number of rows and columns\n"
   ]
  },
  {
   "cell_type": "markdown",
   "metadata": {},
   "source": [
    "\n",
    "**The dataset contains 45,211 rows and 17 columns, which suggests that there are 45,211 records of individuals, each having 17 features.**"
   ]
  },
  {
   "cell_type": "markdown",
   "metadata": {},
   "source": [
    "## **Columns in the Dataset**"
   ]
  },
  {
   "cell_type": "code",
   "execution_count": 94,
   "metadata": {},
   "outputs": [
    {
     "name": "stdout",
     "output_type": "stream",
     "text": [
      "Columns in the dataset:\n",
      " Index(['age', 'job', 'marital', 'education', 'default', 'balance', 'housing',\n",
      "       'loan', 'contact', 'day', 'month', 'duration', 'campaign', 'pdays',\n",
      "       'previous', 'poutcome', 'y'],\n",
      "      dtype='object')\n"
     ]
    }
   ],
   "source": [
    "print(\"Columns in the dataset:\\n\", bank_df.columns)  # Prints column names\n"
   ]
  },
  {
   "cell_type": "markdown",
   "metadata": {},
   "source": [
    "### **The dataset includes the following columns:**\n",
    " \n",
    "`age`: Age of the individual (integer).\n",
    "\n",
    "`job`: Type of job the individual has (categorical).\n",
    "\n",
    "`marital`: Marital status (categorical).\n",
    "\n",
    "`education`: Level of education (categorical).\n",
    "\n",
    "`default`: Whether the individual has credit in default (categorical).\n",
    "\n",
    "`balance`: Account balance (integer).\n",
    "\n",
    "`housing`: Whether the individual has a housing loan (categorical).\n",
    "\n",
    "`loan`: Whether the individual has a personal loan (categorical).\n",
    "\n",
    "`contact`: Type of contact used for communication (categorical).\n",
    "\n",
    "`day`: Last contact day of the month (integer).\n",
    "\n",
    "`month`: Last contact month (categorical).\n",
    "\n",
    "`duration`: Duration of the last contact (integer).\n",
    "\n",
    "`campaign`: Number of contacts performed during the campaign (integer).\n",
    "\n",
    "`pdays`: Number of days since the individual was last contacted (integer).\n",
    "\n",
    "`previous`: Number of contacts before the current campaign (integer).\n",
    "\n",
    "`poutcome`: Outcome of the previous marketing campaign (categorical).\n",
    "\n",
    "`y`: Whether the individual subscribed to a term deposit (binary outcome: 'yes' or 'no')."
   ]
  },
  {
   "cell_type": "markdown",
   "metadata": {},
   "source": [
    "## **Data Types of Each Column**"
   ]
  },
  {
   "cell_type": "code",
   "execution_count": 95,
   "metadata": {},
   "outputs": [
    {
     "name": "stdout",
     "output_type": "stream",
     "text": [
      "Data Types of each column:\n",
      " age           int64\n",
      "job          object\n",
      "marital      object\n",
      "education    object\n",
      "default      object\n",
      "balance       int64\n",
      "housing      object\n",
      "loan         object\n",
      "contact      object\n",
      "day           int64\n",
      "month        object\n",
      "duration      int64\n",
      "campaign      int64\n",
      "pdays         int64\n",
      "previous      int64\n",
      "poutcome     object\n",
      "y            object\n",
      "dtype: object\n"
     ]
    }
   ],
   "source": [
    "print(\"Data Types of each column:\\n\", bank_df.dtypes)  # Prints the data types of each column\n"
   ]
  },
  {
   "cell_type": "markdown",
   "metadata": {},
   "source": [
    "### **The dataset contains a mix of numerical and categorical columns:**\n",
    "1. **Numerical columns**: `age`, `balance`, `day`, `duration`, `campaign`, `pdays`,& `previous`.\n",
    "   \n",
    "2. **Categorical columns**: `job`, `marital`, `education`, `default`, `housing`, `loan`, `contact`, `month`, `poutcome`, & `y`."
   ]
  },
  {
   "cell_type": "markdown",
   "metadata": {},
   "source": [
    "## **Missing Values**"
   ]
  },
  {
   "cell_type": "code",
   "execution_count": 96,
   "metadata": {},
   "outputs": [
    {
     "name": "stdout",
     "output_type": "stream",
     "text": [
      "Missing values in each column:\n",
      " age          0\n",
      "job          0\n",
      "marital      0\n",
      "education    0\n",
      "default      0\n",
      "balance      0\n",
      "housing      0\n",
      "loan         0\n",
      "contact      0\n",
      "day          0\n",
      "month        0\n",
      "duration     0\n",
      "campaign     0\n",
      "pdays        0\n",
      "previous     0\n",
      "poutcome     0\n",
      "y            0\n",
      "dtype: int64\n"
     ]
    }
   ],
   "source": [
    "print(\"Missing values in each column:\\n\", bank_df.isnull().sum())  # Prints count of missing values per column"
   ]
  },
  {
   "cell_type": "markdown",
   "metadata": {},
   "source": [
    "**`There are no missing values in any of the columns. Each column contains complete data for all 45,211 records.`**"
   ]
  },
  {
   "cell_type": "markdown",
   "metadata": {},
   "source": [
    "## **Summary Statistics**"
   ]
  },
  {
   "cell_type": "code",
   "execution_count": 97,
   "metadata": {},
   "outputs": [
    {
     "name": "stdout",
     "output_type": "stream",
     "text": [
      "Discryption:\n"
     ]
    },
    {
     "data": {
      "text/html": [
       "<div>\n",
       "<style scoped>\n",
       "    .dataframe tbody tr th:only-of-type {\n",
       "        vertical-align: middle;\n",
       "    }\n",
       "\n",
       "    .dataframe tbody tr th {\n",
       "        vertical-align: top;\n",
       "    }\n",
       "\n",
       "    .dataframe thead th {\n",
       "        text-align: right;\n",
       "    }\n",
       "</style>\n",
       "<table border=\"1\" class=\"dataframe\">\n",
       "  <thead>\n",
       "    <tr style=\"text-align: right;\">\n",
       "      <th></th>\n",
       "      <th>age</th>\n",
       "      <th>balance</th>\n",
       "      <th>day</th>\n",
       "      <th>duration</th>\n",
       "      <th>campaign</th>\n",
       "      <th>pdays</th>\n",
       "      <th>previous</th>\n",
       "    </tr>\n",
       "  </thead>\n",
       "  <tbody>\n",
       "    <tr>\n",
       "      <th>count</th>\n",
       "      <td>45211.000000</td>\n",
       "      <td>45211.000000</td>\n",
       "      <td>45211.000000</td>\n",
       "      <td>45211.000000</td>\n",
       "      <td>45211.000000</td>\n",
       "      <td>45211.000000</td>\n",
       "      <td>45211.000000</td>\n",
       "    </tr>\n",
       "    <tr>\n",
       "      <th>mean</th>\n",
       "      <td>40.936210</td>\n",
       "      <td>1362.272058</td>\n",
       "      <td>15.806419</td>\n",
       "      <td>258.163080</td>\n",
       "      <td>2.763841</td>\n",
       "      <td>40.197828</td>\n",
       "      <td>0.580323</td>\n",
       "    </tr>\n",
       "    <tr>\n",
       "      <th>std</th>\n",
       "      <td>10.618762</td>\n",
       "      <td>3044.765829</td>\n",
       "      <td>8.322476</td>\n",
       "      <td>257.527812</td>\n",
       "      <td>3.098021</td>\n",
       "      <td>100.128746</td>\n",
       "      <td>2.303441</td>\n",
       "    </tr>\n",
       "    <tr>\n",
       "      <th>min</th>\n",
       "      <td>18.000000</td>\n",
       "      <td>-8019.000000</td>\n",
       "      <td>1.000000</td>\n",
       "      <td>0.000000</td>\n",
       "      <td>1.000000</td>\n",
       "      <td>-1.000000</td>\n",
       "      <td>0.000000</td>\n",
       "    </tr>\n",
       "    <tr>\n",
       "      <th>25%</th>\n",
       "      <td>33.000000</td>\n",
       "      <td>72.000000</td>\n",
       "      <td>8.000000</td>\n",
       "      <td>103.000000</td>\n",
       "      <td>1.000000</td>\n",
       "      <td>-1.000000</td>\n",
       "      <td>0.000000</td>\n",
       "    </tr>\n",
       "    <tr>\n",
       "      <th>50%</th>\n",
       "      <td>39.000000</td>\n",
       "      <td>448.000000</td>\n",
       "      <td>16.000000</td>\n",
       "      <td>180.000000</td>\n",
       "      <td>2.000000</td>\n",
       "      <td>-1.000000</td>\n",
       "      <td>0.000000</td>\n",
       "    </tr>\n",
       "    <tr>\n",
       "      <th>75%</th>\n",
       "      <td>48.000000</td>\n",
       "      <td>1428.000000</td>\n",
       "      <td>21.000000</td>\n",
       "      <td>319.000000</td>\n",
       "      <td>3.000000</td>\n",
       "      <td>-1.000000</td>\n",
       "      <td>0.000000</td>\n",
       "    </tr>\n",
       "    <tr>\n",
       "      <th>max</th>\n",
       "      <td>95.000000</td>\n",
       "      <td>102127.000000</td>\n",
       "      <td>31.000000</td>\n",
       "      <td>4918.000000</td>\n",
       "      <td>63.000000</td>\n",
       "      <td>871.000000</td>\n",
       "      <td>275.000000</td>\n",
       "    </tr>\n",
       "  </tbody>\n",
       "</table>\n",
       "</div>"
      ],
      "text/plain": [
       "                age        balance           day      duration      campaign  \\\n",
       "count  45211.000000   45211.000000  45211.000000  45211.000000  45211.000000   \n",
       "mean      40.936210    1362.272058     15.806419    258.163080      2.763841   \n",
       "std       10.618762    3044.765829      8.322476    257.527812      3.098021   \n",
       "min       18.000000   -8019.000000      1.000000      0.000000      1.000000   \n",
       "25%       33.000000      72.000000      8.000000    103.000000      1.000000   \n",
       "50%       39.000000     448.000000     16.000000    180.000000      2.000000   \n",
       "75%       48.000000    1428.000000     21.000000    319.000000      3.000000   \n",
       "max       95.000000  102127.000000     31.000000   4918.000000     63.000000   \n",
       "\n",
       "              pdays      previous  \n",
       "count  45211.000000  45211.000000  \n",
       "mean      40.197828      0.580323  \n",
       "std      100.128746      2.303441  \n",
       "min       -1.000000      0.000000  \n",
       "25%       -1.000000      0.000000  \n",
       "50%       -1.000000      0.000000  \n",
       "75%       -1.000000      0.000000  \n",
       "max      871.000000    275.000000  "
      ]
     },
     "execution_count": 97,
     "metadata": {},
     "output_type": "execute_result"
    }
   ],
   "source": [
    "print(\"Discryption:\")\n",
    "bank_df.describe()"
   ]
  },
  {
   "cell_type": "markdown",
   "metadata": {},
   "source": [
    "**`Age`**: The average age is approximately 40.94 years, with a minimum of 18 and a maximum of 95.\n",
    "\n",
    "**`Balance`**: The average balance is about 1,362, but the balance can vary significantly, with a minimum of -8,019 (indicating negative balances) and a maximum of 102,127.\n",
    "\n",
    "**`Day`**: The average last contact day is around 15.81, suggesting a fairly evenly distributed set of contact days across the month.\n",
    "\n",
    "**`Duration`**: The average duration of the last contact is 258.16 seconds, with a minimum of 0 and a maximum of 4,918 seconds, showing large variation in the length of contact.\n",
    "\n",
    "**`Campaign`**: The average number of contacts during the campaign is 2.76, with values ranging from 1 to 63.\n",
    "\n",
    "**`Pdays`**: The number of days since last contact varies significantly, with a minimum of -1 (indicating no prior contact) and a maximum of 871.\n",
    "\n",
    "**`Previous`**: The number of prior contacts ranges from 0 to 275, with an average of 0.58, indicating many individuals have had no prior contact."
   ]
  },
  {
   "cell_type": "markdown",
   "metadata": {},
   "source": [
    "# **Statistics overview of NBA Data**"
   ]
  },
  {
   "cell_type": "markdown",
   "metadata": {},
   "source": [
    "## **DataSet Head**"
   ]
  },
  {
   "cell_type": "code",
   "execution_count": 98,
   "metadata": {},
   "outputs": [
    {
     "data": {
      "text/html": [
       "<div>\n",
       "<style scoped>\n",
       "    .dataframe tbody tr th:only-of-type {\n",
       "        vertical-align: middle;\n",
       "    }\n",
       "\n",
       "    .dataframe tbody tr th {\n",
       "        vertical-align: top;\n",
       "    }\n",
       "\n",
       "    .dataframe thead th {\n",
       "        text-align: right;\n",
       "    }\n",
       "</style>\n",
       "<table border=\"1\" class=\"dataframe\">\n",
       "  <thead>\n",
       "    <tr style=\"text-align: right;\">\n",
       "      <th></th>\n",
       "      <th>Unnamed: 0</th>\n",
       "      <th>player_name</th>\n",
       "      <th>team_abbreviation</th>\n",
       "      <th>age</th>\n",
       "      <th>player_height</th>\n",
       "      <th>player_weight</th>\n",
       "      <th>college</th>\n",
       "      <th>country</th>\n",
       "      <th>draft_year</th>\n",
       "      <th>draft_round</th>\n",
       "      <th>...</th>\n",
       "      <th>pts</th>\n",
       "      <th>reb</th>\n",
       "      <th>ast</th>\n",
       "      <th>net_rating</th>\n",
       "      <th>oreb_pct</th>\n",
       "      <th>dreb_pct</th>\n",
       "      <th>usg_pct</th>\n",
       "      <th>ts_pct</th>\n",
       "      <th>ast_pct</th>\n",
       "      <th>season</th>\n",
       "    </tr>\n",
       "  </thead>\n",
       "  <tbody>\n",
       "    <tr>\n",
       "      <th>0</th>\n",
       "      <td>0</td>\n",
       "      <td>Randy Livingston</td>\n",
       "      <td>HOU</td>\n",
       "      <td>22.0</td>\n",
       "      <td>193.04</td>\n",
       "      <td>94.800728</td>\n",
       "      <td>Louisiana State</td>\n",
       "      <td>USA</td>\n",
       "      <td>1996</td>\n",
       "      <td>2</td>\n",
       "      <td>...</td>\n",
       "      <td>3.9</td>\n",
       "      <td>1.5</td>\n",
       "      <td>2.4</td>\n",
       "      <td>0.3</td>\n",
       "      <td>0.042</td>\n",
       "      <td>0.071</td>\n",
       "      <td>0.169</td>\n",
       "      <td>0.487</td>\n",
       "      <td>0.248</td>\n",
       "      <td>1996-97</td>\n",
       "    </tr>\n",
       "    <tr>\n",
       "      <th>1</th>\n",
       "      <td>1</td>\n",
       "      <td>Gaylon Nickerson</td>\n",
       "      <td>WAS</td>\n",
       "      <td>28.0</td>\n",
       "      <td>190.50</td>\n",
       "      <td>86.182480</td>\n",
       "      <td>Northwestern Oklahoma</td>\n",
       "      <td>USA</td>\n",
       "      <td>1994</td>\n",
       "      <td>2</td>\n",
       "      <td>...</td>\n",
       "      <td>3.8</td>\n",
       "      <td>1.3</td>\n",
       "      <td>0.3</td>\n",
       "      <td>8.9</td>\n",
       "      <td>0.030</td>\n",
       "      <td>0.111</td>\n",
       "      <td>0.174</td>\n",
       "      <td>0.497</td>\n",
       "      <td>0.043</td>\n",
       "      <td>1996-97</td>\n",
       "    </tr>\n",
       "    <tr>\n",
       "      <th>2</th>\n",
       "      <td>2</td>\n",
       "      <td>George Lynch</td>\n",
       "      <td>VAN</td>\n",
       "      <td>26.0</td>\n",
       "      <td>203.20</td>\n",
       "      <td>103.418976</td>\n",
       "      <td>North Carolina</td>\n",
       "      <td>USA</td>\n",
       "      <td>1993</td>\n",
       "      <td>1</td>\n",
       "      <td>...</td>\n",
       "      <td>8.3</td>\n",
       "      <td>6.4</td>\n",
       "      <td>1.9</td>\n",
       "      <td>-8.2</td>\n",
       "      <td>0.106</td>\n",
       "      <td>0.185</td>\n",
       "      <td>0.175</td>\n",
       "      <td>0.512</td>\n",
       "      <td>0.125</td>\n",
       "      <td>1996-97</td>\n",
       "    </tr>\n",
       "    <tr>\n",
       "      <th>3</th>\n",
       "      <td>3</td>\n",
       "      <td>George McCloud</td>\n",
       "      <td>LAL</td>\n",
       "      <td>30.0</td>\n",
       "      <td>203.20</td>\n",
       "      <td>102.058200</td>\n",
       "      <td>Florida State</td>\n",
       "      <td>USA</td>\n",
       "      <td>1989</td>\n",
       "      <td>1</td>\n",
       "      <td>...</td>\n",
       "      <td>10.2</td>\n",
       "      <td>2.8</td>\n",
       "      <td>1.7</td>\n",
       "      <td>-2.7</td>\n",
       "      <td>0.027</td>\n",
       "      <td>0.111</td>\n",
       "      <td>0.206</td>\n",
       "      <td>0.527</td>\n",
       "      <td>0.125</td>\n",
       "      <td>1996-97</td>\n",
       "    </tr>\n",
       "    <tr>\n",
       "      <th>4</th>\n",
       "      <td>4</td>\n",
       "      <td>George Zidek</td>\n",
       "      <td>DEN</td>\n",
       "      <td>23.0</td>\n",
       "      <td>213.36</td>\n",
       "      <td>119.748288</td>\n",
       "      <td>UCLA</td>\n",
       "      <td>USA</td>\n",
       "      <td>1995</td>\n",
       "      <td>1</td>\n",
       "      <td>...</td>\n",
       "      <td>2.8</td>\n",
       "      <td>1.7</td>\n",
       "      <td>0.3</td>\n",
       "      <td>-14.1</td>\n",
       "      <td>0.102</td>\n",
       "      <td>0.169</td>\n",
       "      <td>0.195</td>\n",
       "      <td>0.500</td>\n",
       "      <td>0.064</td>\n",
       "      <td>1996-97</td>\n",
       "    </tr>\n",
       "  </tbody>\n",
       "</table>\n",
       "<p>5 rows × 22 columns</p>\n",
       "</div>"
      ],
      "text/plain": [
       "   Unnamed: 0       player_name team_abbreviation   age  player_height  \\\n",
       "0           0  Randy Livingston               HOU  22.0         193.04   \n",
       "1           1  Gaylon Nickerson               WAS  28.0         190.50   \n",
       "2           2      George Lynch               VAN  26.0         203.20   \n",
       "3           3    George McCloud               LAL  30.0         203.20   \n",
       "4           4      George Zidek               DEN  23.0         213.36   \n",
       "\n",
       "   player_weight                college country draft_year draft_round  ...  \\\n",
       "0      94.800728        Louisiana State     USA       1996           2  ...   \n",
       "1      86.182480  Northwestern Oklahoma     USA       1994           2  ...   \n",
       "2     103.418976         North Carolina     USA       1993           1  ...   \n",
       "3     102.058200          Florida State     USA       1989           1  ...   \n",
       "4     119.748288                   UCLA     USA       1995           1  ...   \n",
       "\n",
       "    pts  reb  ast  net_rating  oreb_pct  dreb_pct  usg_pct  ts_pct  ast_pct  \\\n",
       "0   3.9  1.5  2.4         0.3     0.042     0.071    0.169   0.487    0.248   \n",
       "1   3.8  1.3  0.3         8.9     0.030     0.111    0.174   0.497    0.043   \n",
       "2   8.3  6.4  1.9        -8.2     0.106     0.185    0.175   0.512    0.125   \n",
       "3  10.2  2.8  1.7        -2.7     0.027     0.111    0.206   0.527    0.125   \n",
       "4   2.8  1.7  0.3       -14.1     0.102     0.169    0.195   0.500    0.064   \n",
       "\n",
       "    season  \n",
       "0  1996-97  \n",
       "1  1996-97  \n",
       "2  1996-97  \n",
       "3  1996-97  \n",
       "4  1996-97  \n",
       "\n",
       "[5 rows x 22 columns]"
      ]
     },
     "execution_count": 98,
     "metadata": {},
     "output_type": "execute_result"
    }
   ],
   "source": [
    "nba_df.head()"
   ]
  },
  {
   "cell_type": "markdown",
   "metadata": {},
   "source": [
    "## **Shape of the Dataset** "
   ]
  },
  {
   "cell_type": "code",
   "execution_count": 99,
   "metadata": {},
   "outputs": [
    {
     "name": "stdout",
     "output_type": "stream",
     "text": [
      "Shape of NBA dataset: 12844 x 22\n"
     ]
    }
   ],
   "source": [
    "# Shape of the DataFrame: returns a tuple (rows, columns)\n",
    "nba_shape = nba_df.shape\n",
    "# Print the information\n",
    "print(\"Shape of NBA dataset:\", nba_shape[0], \"x\", nba_shape[1])  # Prints the number of rows and columns"
   ]
  },
  {
   "cell_type": "markdown",
   "metadata": {},
   "source": [
    "**The dataset contains 12,844 rows and 22 columns, indicating data about players' performance and attributes.**"
   ]
  },
  {
   "cell_type": "markdown",
   "metadata": {},
   "source": [
    "## **Columns in the Dataset**"
   ]
  },
  {
   "cell_type": "code",
   "execution_count": 100,
   "metadata": {},
   "outputs": [
    {
     "name": "stdout",
     "output_type": "stream",
     "text": [
      "Columns in the NBA dataset:\n",
      " Index(['Unnamed: 0', 'player_name', 'team_abbreviation', 'age',\n",
      "       'player_height', 'player_weight', 'college', 'country', 'draft_year',\n",
      "       'draft_round', 'draft_number', 'gp', 'pts', 'reb', 'ast', 'net_rating',\n",
      "       'oreb_pct', 'dreb_pct', 'usg_pct', 'ts_pct', 'ast_pct', 'season'],\n",
      "      dtype='object')\n"
     ]
    }
   ],
   "source": [
    "print(\"Columns in the NBA dataset:\\n\", nba_df.columns)  # Prints column names"
   ]
  },
  {
   "cell_type": "markdown",
   "metadata": {},
   "source": [
    "### **The dataset includes columns such as:**\n",
    "\n",
    "- **Player attributes**: `player_name`, `team_abbreviation`, `age`, `player_height`, `player_weight`.\n",
    "  \n",
    "- **College and country information**: `college`, `country`.\n",
    "  \n",
    "- **Draft details**: `draft_year`, `draft_round`, `draft_number`.\n",
    "  \n",
    "- **Performance metrics**: `gp` (games played), `pts` (points), `reb` (rebounds), `ast` (assists), `net_rating`, `oreb_pct` (offensive rebound percentage), `dreb_pct` (defensive rebound percentage), `usg_pct` (usage percentage), `ts_pct` (true shooting percentage), `ast_pct` (assist percentage).\n",
    "  \n",
    "- **Additional columns**: `Unnamed: 0` (index), `season` (season year)."
   ]
  },
  {
   "cell_type": "markdown",
   "metadata": {},
   "source": [
    "## **Data Types of Each Column**"
   ]
  },
  {
   "cell_type": "code",
   "execution_count": 101,
   "metadata": {},
   "outputs": [
    {
     "name": "stdout",
     "output_type": "stream",
     "text": [
      "Data Types of each column:\n",
      " Unnamed: 0             int64\n",
      "player_name           object\n",
      "team_abbreviation     object\n",
      "age                  float64\n",
      "player_height        float64\n",
      "player_weight        float64\n",
      "college               object\n",
      "country               object\n",
      "draft_year            object\n",
      "draft_round           object\n",
      "draft_number          object\n",
      "gp                     int64\n",
      "pts                  float64\n",
      "reb                  float64\n",
      "ast                  float64\n",
      "net_rating           float64\n",
      "oreb_pct             float64\n",
      "dreb_pct             float64\n",
      "usg_pct              float64\n",
      "ts_pct               float64\n",
      "ast_pct              float64\n",
      "season                object\n",
      "dtype: object\n"
     ]
    }
   ],
   "source": [
    "print(\"Data Types of each column:\\n\", nba_df.dtypes)  # Prints the data types of each column"
   ]
  },
  {
   "cell_type": "markdown",
   "metadata": {},
   "source": [
    "### **The dataset contains a mix of numerical and categorical columns:**\n",
    "\n",
    "- Numeric (int64/float64): Performance metrics and player physical attributes (`gp`, `pts`, `reb`, etc.).\n",
    "  \n",
    "- Categorical (object): `player_name`, `team_abbreviation`, `college`, `country`, `draft_year`, `draft_round`, `draft_number`, `season`."
   ]
  },
  {
   "cell_type": "markdown",
   "metadata": {},
   "source": [
    "## **Missing Values**"
   ]
  },
  {
   "cell_type": "code",
   "execution_count": 102,
   "metadata": {},
   "outputs": [
    {
     "name": "stdout",
     "output_type": "stream",
     "text": [
      "Missing values in each column:\n",
      " Unnamed: 0              0\n",
      "player_name             0\n",
      "team_abbreviation       0\n",
      "age                     0\n",
      "player_height           0\n",
      "player_weight           0\n",
      "college              1854\n",
      "country                 0\n",
      "draft_year              0\n",
      "draft_round             0\n",
      "draft_number            0\n",
      "gp                      0\n",
      "pts                     0\n",
      "reb                     0\n",
      "ast                     0\n",
      "net_rating              0\n",
      "oreb_pct                0\n",
      "dreb_pct                0\n",
      "usg_pct                 0\n",
      "ts_pct                  0\n",
      "ast_pct                 0\n",
      "season                  0\n",
      "dtype: int64\n"
     ]
    }
   ],
   "source": [
    "print(\"Missing values in each column:\\n\", nba_df.isnull().sum())  # Prints count of missing values per column"
   ]
  },
  {
   "cell_type": "markdown",
   "metadata": {},
   "source": [
    "**The column college has 1,854 missing values.**\n",
    "1. This column is irrelevant for our prediction\n",
    "\n",
    "**All other columns have no missing values.**"
   ]
  },
  {
   "cell_type": "markdown",
   "metadata": {},
   "source": [
    "## **Summary Statistics**"
   ]
  },
  {
   "cell_type": "code",
   "execution_count": 103,
   "metadata": {},
   "outputs": [
    {
     "name": "stdout",
     "output_type": "stream",
     "text": [
      "Discryption:\n"
     ]
    },
    {
     "data": {
      "text/html": [
       "<div>\n",
       "<style scoped>\n",
       "    .dataframe tbody tr th:only-of-type {\n",
       "        vertical-align: middle;\n",
       "    }\n",
       "\n",
       "    .dataframe tbody tr th {\n",
       "        vertical-align: top;\n",
       "    }\n",
       "\n",
       "    .dataframe thead th {\n",
       "        text-align: right;\n",
       "    }\n",
       "</style>\n",
       "<table border=\"1\" class=\"dataframe\">\n",
       "  <thead>\n",
       "    <tr style=\"text-align: right;\">\n",
       "      <th></th>\n",
       "      <th>Unnamed: 0</th>\n",
       "      <th>age</th>\n",
       "      <th>player_height</th>\n",
       "      <th>player_weight</th>\n",
       "      <th>gp</th>\n",
       "      <th>pts</th>\n",
       "      <th>reb</th>\n",
       "      <th>ast</th>\n",
       "      <th>net_rating</th>\n",
       "      <th>oreb_pct</th>\n",
       "      <th>dreb_pct</th>\n",
       "      <th>usg_pct</th>\n",
       "      <th>ts_pct</th>\n",
       "      <th>ast_pct</th>\n",
       "    </tr>\n",
       "  </thead>\n",
       "  <tbody>\n",
       "    <tr>\n",
       "      <th>count</th>\n",
       "      <td>12844.000000</td>\n",
       "      <td>12844.000000</td>\n",
       "      <td>12844.000000</td>\n",
       "      <td>12844.000000</td>\n",
       "      <td>12844.000000</td>\n",
       "      <td>12844.000000</td>\n",
       "      <td>12844.000000</td>\n",
       "      <td>12844.000000</td>\n",
       "      <td>12844.000000</td>\n",
       "      <td>12844.000000</td>\n",
       "      <td>12844.000000</td>\n",
       "      <td>12844.000000</td>\n",
       "      <td>12844.000000</td>\n",
       "      <td>12844.000000</td>\n",
       "    </tr>\n",
       "    <tr>\n",
       "      <th>mean</th>\n",
       "      <td>6421.500000</td>\n",
       "      <td>27.045313</td>\n",
       "      <td>200.555097</td>\n",
       "      <td>100.263279</td>\n",
       "      <td>51.154158</td>\n",
       "      <td>8.212582</td>\n",
       "      <td>3.558486</td>\n",
       "      <td>1.824681</td>\n",
       "      <td>-2.226339</td>\n",
       "      <td>0.054073</td>\n",
       "      <td>0.140646</td>\n",
       "      <td>0.184641</td>\n",
       "      <td>0.513138</td>\n",
       "      <td>0.131595</td>\n",
       "    </tr>\n",
       "    <tr>\n",
       "      <th>std</th>\n",
       "      <td>3707.887763</td>\n",
       "      <td>4.339211</td>\n",
       "      <td>9.111090</td>\n",
       "      <td>12.426628</td>\n",
       "      <td>25.084904</td>\n",
       "      <td>6.016573</td>\n",
       "      <td>2.477885</td>\n",
       "      <td>1.800840</td>\n",
       "      <td>12.665124</td>\n",
       "      <td>0.043335</td>\n",
       "      <td>0.062513</td>\n",
       "      <td>0.053545</td>\n",
       "      <td>0.101724</td>\n",
       "      <td>0.094172</td>\n",
       "    </tr>\n",
       "    <tr>\n",
       "      <th>min</th>\n",
       "      <td>0.000000</td>\n",
       "      <td>18.000000</td>\n",
       "      <td>160.020000</td>\n",
       "      <td>60.327736</td>\n",
       "      <td>1.000000</td>\n",
       "      <td>0.000000</td>\n",
       "      <td>0.000000</td>\n",
       "      <td>0.000000</td>\n",
       "      <td>-250.000000</td>\n",
       "      <td>0.000000</td>\n",
       "      <td>0.000000</td>\n",
       "      <td>0.000000</td>\n",
       "      <td>0.000000</td>\n",
       "      <td>0.000000</td>\n",
       "    </tr>\n",
       "    <tr>\n",
       "      <th>25%</th>\n",
       "      <td>3210.750000</td>\n",
       "      <td>24.000000</td>\n",
       "      <td>193.040000</td>\n",
       "      <td>90.718400</td>\n",
       "      <td>31.000000</td>\n",
       "      <td>3.600000</td>\n",
       "      <td>1.800000</td>\n",
       "      <td>0.600000</td>\n",
       "      <td>-6.400000</td>\n",
       "      <td>0.021000</td>\n",
       "      <td>0.096000</td>\n",
       "      <td>0.149000</td>\n",
       "      <td>0.482000</td>\n",
       "      <td>0.066000</td>\n",
       "    </tr>\n",
       "    <tr>\n",
       "      <th>50%</th>\n",
       "      <td>6421.500000</td>\n",
       "      <td>26.000000</td>\n",
       "      <td>200.660000</td>\n",
       "      <td>99.790240</td>\n",
       "      <td>57.000000</td>\n",
       "      <td>6.700000</td>\n",
       "      <td>3.000000</td>\n",
       "      <td>1.200000</td>\n",
       "      <td>-1.300000</td>\n",
       "      <td>0.040000</td>\n",
       "      <td>0.130500</td>\n",
       "      <td>0.181000</td>\n",
       "      <td>0.525000</td>\n",
       "      <td>0.103000</td>\n",
       "    </tr>\n",
       "    <tr>\n",
       "      <th>75%</th>\n",
       "      <td>9632.250000</td>\n",
       "      <td>30.000000</td>\n",
       "      <td>208.280000</td>\n",
       "      <td>108.862080</td>\n",
       "      <td>73.000000</td>\n",
       "      <td>11.500000</td>\n",
       "      <td>4.700000</td>\n",
       "      <td>2.400000</td>\n",
       "      <td>3.200000</td>\n",
       "      <td>0.083000</td>\n",
       "      <td>0.179000</td>\n",
       "      <td>0.217000</td>\n",
       "      <td>0.563000</td>\n",
       "      <td>0.179000</td>\n",
       "    </tr>\n",
       "    <tr>\n",
       "      <th>max</th>\n",
       "      <td>12843.000000</td>\n",
       "      <td>44.000000</td>\n",
       "      <td>231.140000</td>\n",
       "      <td>163.293120</td>\n",
       "      <td>85.000000</td>\n",
       "      <td>36.100000</td>\n",
       "      <td>16.300000</td>\n",
       "      <td>11.700000</td>\n",
       "      <td>300.000000</td>\n",
       "      <td>1.000000</td>\n",
       "      <td>1.000000</td>\n",
       "      <td>1.000000</td>\n",
       "      <td>1.500000</td>\n",
       "      <td>1.000000</td>\n",
       "    </tr>\n",
       "  </tbody>\n",
       "</table>\n",
       "</div>"
      ],
      "text/plain": [
       "         Unnamed: 0           age  player_height  player_weight            gp  \\\n",
       "count  12844.000000  12844.000000   12844.000000   12844.000000  12844.000000   \n",
       "mean    6421.500000     27.045313     200.555097     100.263279     51.154158   \n",
       "std     3707.887763      4.339211       9.111090      12.426628     25.084904   \n",
       "min        0.000000     18.000000     160.020000      60.327736      1.000000   \n",
       "25%     3210.750000     24.000000     193.040000      90.718400     31.000000   \n",
       "50%     6421.500000     26.000000     200.660000      99.790240     57.000000   \n",
       "75%     9632.250000     30.000000     208.280000     108.862080     73.000000   \n",
       "max    12843.000000     44.000000     231.140000     163.293120     85.000000   \n",
       "\n",
       "                pts           reb           ast    net_rating      oreb_pct  \\\n",
       "count  12844.000000  12844.000000  12844.000000  12844.000000  12844.000000   \n",
       "mean       8.212582      3.558486      1.824681     -2.226339      0.054073   \n",
       "std        6.016573      2.477885      1.800840     12.665124      0.043335   \n",
       "min        0.000000      0.000000      0.000000   -250.000000      0.000000   \n",
       "25%        3.600000      1.800000      0.600000     -6.400000      0.021000   \n",
       "50%        6.700000      3.000000      1.200000     -1.300000      0.040000   \n",
       "75%       11.500000      4.700000      2.400000      3.200000      0.083000   \n",
       "max       36.100000     16.300000     11.700000    300.000000      1.000000   \n",
       "\n",
       "           dreb_pct       usg_pct        ts_pct       ast_pct  \n",
       "count  12844.000000  12844.000000  12844.000000  12844.000000  \n",
       "mean       0.140646      0.184641      0.513138      0.131595  \n",
       "std        0.062513      0.053545      0.101724      0.094172  \n",
       "min        0.000000      0.000000      0.000000      0.000000  \n",
       "25%        0.096000      0.149000      0.482000      0.066000  \n",
       "50%        0.130500      0.181000      0.525000      0.103000  \n",
       "75%        0.179000      0.217000      0.563000      0.179000  \n",
       "max        1.000000      1.000000      1.500000      1.000000  "
      ]
     },
     "execution_count": 103,
     "metadata": {},
     "output_type": "execute_result"
    }
   ],
   "source": [
    "print(\"Discryption:\")\n",
    "nba_df.describe()"
   ]
  },
  {
   "cell_type": "markdown",
   "metadata": {},
   "source": [
    "## **Descriptive Statistics**\n",
    "\n",
    "- **Age**:\n",
    "    - Average: 27 years, Range: 18 to 44 years.\n",
    "- **Player Height**:\n",
    "     - Average: ~200.6 cm, Range: 160.02 to 231.14 cm.\n",
    "- **Player Weight**:\n",
    "     - Average: ~100.26 kg, Range: 60.33 to 163.29 kg.\n",
    "- **Games Played (`gp`)**:\n",
    "     - Average: 51.15 games per season, Range: 1 to 85 games.\n",
    "- **Points (`pts`)**:\n",
    "     - Average: 8.21 points per game, Range: 0 to 36.1 points.\n",
    "- **Net Rating**:\n",
    "     - Mean: -2.23, Range: -250 to 300 (indicates variability in players' overall contributions).\n",
    "- **Rebounds (`reb`)**:\n",
    "     - Average: 3.56 per game, Range: 0 to 16.3.\n",
    "- **Assists (`ast`)**:\n",
    "     - Average: 1.82 per game, Range: 0 to 11.7."
   ]
  }
 ],
 "metadata": {
  "kernelspec": {
   "display_name": "Python 3",
   "language": "python",
   "name": "python3"
  },
  "language_info": {
   "codemirror_mode": {
    "name": "ipython",
    "version": 3
   },
   "file_extension": ".py",
   "mimetype": "text/x-python",
   "name": "python",
   "nbconvert_exporter": "python",
   "pygments_lexer": "ipython3",
   "version": "3.12.6"
  }
 },
 "nbformat": 4,
 "nbformat_minor": 2
}
